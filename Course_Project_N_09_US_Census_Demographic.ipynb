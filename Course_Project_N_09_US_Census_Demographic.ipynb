{
  "nbformat": 4,
  "nbformat_minor": 0,
  "metadata": {
    "colab": {
      "name": "Course Project N.09: US Census Demographic",
      "version": "0.3.2",
      "provenance": [],
      "collapsed_sections": [],
      "include_colab_link": true
    },
    "kernelspec": {
      "name": "python3",
      "display_name": "Python 3"
    }
  },
  "cells": [
    {
      "cell_type": "markdown",
      "metadata": {
        "id": "view-in-github",
        "colab_type": "text"
      },
      "source": [
        "<a href=\"https://colab.research.google.com/github/NikolasGialitsis/usCensus/blob/master/Course_Project_N_09_US_Census_Demographic.ipynb\" target=\"_parent\"><img src=\"https://colab.research.google.com/assets/colab-badge.svg\" alt=\"Open In Colab\"/></a>"
      ]
    },
    {
      "cell_type": "code",
      "metadata": {
        "id": "_ujMKLcW09A2",
        "colab_type": "code",
        "colab": {
          "base_uri": "https://localhost:8080/",
          "height": 34
        },
        "outputId": "5a3709e6-63b4-4607-b0dd-8a37ff72213f"
      },
      "source": [
        "#!/usr/bin/env python\n",
        "#@Author: Nikolas Gialitsis #\n",
        "import pandas as pd\n",
        "import copy\n",
        "import math\n",
        "import matplotlib\n",
        "import matplotlib.pyplot as plt\n",
        "import matplotlib.colors as colors\n",
        "import matplotlib.cm as cm\n",
        "import numpy as np\n",
        "import networkx as nx\n",
        "import sys\n",
        "from scipy.optimize import curve_fit\n",
        "csv_file = \"usCensus.csv\"\n",
        "header_num = 0\n",
        "dataset = ''\n",
        "while True:\n",
        "    dataset=pd.read_csv(csv_file,delimiter= \",\",header= header_num,error_bad_lines=False)\n",
        "    if list(dataset)[0] == '%':\n",
        "        header_num += 1\n",
        "    else:\n",
        "        break\n",
        "print(header_num)"
      ],
      "execution_count": 11,
      "outputs": [
        {
          "output_type": "stream",
          "text": [
            "0\n"
          ],
          "name": "stdout"
        }
      ]
    },
    {
      "cell_type": "code",
      "metadata": {
        "id": "TdoINSgZ6rds",
        "colab_type": "code",
        "colab": {
          "base_uri": "https://localhost:8080/",
          "height": 54
        },
        "outputId": "97e0a7b5-efa5-4b66-ecd2-a0bd95e4985a"
      },
      "source": [
        "'''\n",
        "\n",
        "CensusTract   1001020100\n",
        "State Alabama\n",
        "County Autauga\n",
        "TotalPop 1948\n",
        "Men 940\n",
        "Women 1008\n",
        "Hispanic 0.9\n",
        "White 87.4\n",
        "Black 7.7\n",
        "Native 0.3\n",
        "Asian 0.6\n",
        "Pacific 0.0\n",
        "Citizen 1503\n",
        "Income 61838.0\n",
        "IncomeErr 11900.0\n",
        "IncomePerCap 25713.0\n",
        "IncomePerCapErr 4548.0\n",
        "Poverty 8.1\n",
        "ChildPoverty 8.4\n",
        "Professional 34.7\n",
        "Service 17.0\n",
        "Office 21.3\n",
        "Construction 11.9\n",
        "Production 15.2\n",
        "Drive 90.2\n",
        "Carpool 4.8\n",
        "Transit 0.0\n",
        "Walk 0.5\n",
        "OtherTransp 2.3\n",
        "WorkAtHome 2.1\n",
        "MeanCommute 25.0\n",
        "Employed 943\n",
        "PrivateWork 77.1\n",
        "PublicWork 18.3\n",
        "SelfEmployed 4.6\n",
        "FamilyWork 0.0\n",
        "Unemployment 5.4\n",
        "'''"
      ],
      "execution_count": 12,
      "outputs": [
        {
          "output_type": "execute_result",
          "data": {
            "text/plain": [
              "'\\n,,,,,,,,,,,,,,,,,,,,,,,,,,,,\\n\\nCensusTract   1001020100\\nState Alabama\\nCounty Autauga\\nTotalPop 1948\\nMen 940\\nWomen 1008\\nHispanic 0.9\\nWhite 87.4\\nBlack 7.7\\nNative 0.3\\nAsian 0.6\\nPacific 0.0\\nCitizen 1503\\nIncome 61838.0\\nIncomeErr 11900.0\\nIncomePerCap 25713.0\\nIncomePerCapErr 4548.0\\nPoverty 8.1\\nChildPoverty 8.4\\nProfessional 34.7\\nService 17.0\\nOffice 21.3\\nConstruction 11.9\\nProduction 15.2\\nDrive 90.2\\nCarpool 4.8\\nTransit 0.0\\nWalk 0.5\\nOtherTransp 2.3\\nWorkAtHome 2.1\\nMeanCommute 25.0\\nEmployed 943\\nPrivateWork 77.1\\nPublicWork 18.3\\nSelfEmployed 4.6\\nFamilyWork 0.0\\nUnemployment 5.4\\n'"
            ]
          },
          "metadata": {
            "tags": []
          },
          "execution_count": 12
        }
      ]
    },
    {
      "cell_type": "markdown",
      "metadata": {
        "id": "tuaVIzOxWuL2",
        "colab_type": "text"
      },
      "source": [
        ""
      ]
    },
    {
      "cell_type": "code",
      "metadata": {
        "id": "p7e2G0_-80C3",
        "colab_type": "code",
        "colab": {}
      },
      "source": [
        "def GetFields(dataset):\n",
        "  men = dataset['Men']\n",
        "  women = dataset['Women']\n",
        "  hispanic = dataset['Hispanic']\n",
        "  total = dataset['TotalPop']\n",
        "  white = dataset['White']\n",
        "  black = dataset['Black']\n",
        "  native = dataset['Native']\n",
        "  asian = dataset['Asian']\n",
        "  pacific = dataset['Pacific']\n",
        "  profes = dataset['Professional']\n",
        "  service = dataset['Service']\n",
        "  office = dataset['Office']\n",
        "  constr = dataset['Construction']\n",
        "  product = dataset['Production']\n",
        "  poverty = dataset['Poverty']\n",
        "  child_pov = dataset['ChildPoverty']\n",
        "  drive = dataset['Drive']\n",
        "  carpool = dataset['Carpool']\n",
        "  transit = dataset['Transit']\n",
        "  walk = dataset['Walk']\n",
        "  othertp = dataset['OtherTransp']\n",
        "  workhome = dataset['WorkAtHome']\n",
        "  private = dataset['PrivateWork']\n",
        "  public = dataset['PublicWork']\n",
        "  selfw  = dataset['SelfEmployed']\n",
        "  family = dataset['FamilyWork']\n",
        "  unemp = dataset['Unemployment']\n",
        "\n",
        "  return(men,women,hispanic,total,white,black,native,asian,pacific,profes,\n",
        "    service,office,constr,product,poverty,child_pov,\n",
        "    drive,carpool,transit,walk,othertp,workhome, \n",
        "    private , public , selfw, family , unemp)\n",
        "\n",
        "def Assess_Data_Integrity(dataset,epsilon):\n",
        "\n",
        "  (men,women,hispanic,total,white,black,native,asian,pacific,profes,\n",
        "  service,office,constr,product,poverty,child_pov,\n",
        "  drive,carpool,transit,walk,othertp,workhome, \n",
        "  private , public , selfw, family , unemp) = GetFields(dataset)\n",
        "  \n",
        "  genders_err = []\n",
        "  ethnic_err = []\n",
        "  workspace_err = []\n",
        "  job_err = []\n",
        "  transp_err = []\n",
        "  for x in range(0,total.size-1): \n",
        "    genders = men[x] + women[x]\n",
        "    ethnic = hispanic[x] + white[x] + black[x] + native[x] + asian[x] + pacific[x]\n",
        "    workspace =  profes[x] + service[x] +  office[x] + constr[x] + product[x]\n",
        "    job = public[x] + private[x] + selfw[x] + family[x]\n",
        "    transp = drive[x] + carpool[x] + walk[x] + transit[x] +othertp[x] + workhome[x] \n",
        "\n",
        "    if not math.isnan(genders) and genders != total[x] :\n",
        "      genders_err.append(x)\n",
        "    if not math.isnan(ethnic) and abs(ethnic  - 100.0) > epsilon :\n",
        "      ethnic_err.append(x)\n",
        "    if  not math.isnan(workspace) and abs( workspace - 100.0) > epsilon :\n",
        "      workspace_err.append(x)\n",
        "    if not math.isnan(job) and abs( job - 100.0) > epsilon  :\n",
        "      job_err.append(x)\n",
        "    if not math.isnan(transp) and abs( transp - 100.0) > epsilon :\n",
        "      transp_err.append(x)\n",
        "  return(genders_err,ethnic_err,workspace_err,job_err,transp_err)\n",
        "\n"
      ],
      "execution_count": 0,
      "outputs": []
    },
    {
      "cell_type": "code",
      "metadata": {
        "id": "_XyKUxNkHegD",
        "colab_type": "code",
        "colab": {
          "base_uri": "https://localhost:8080/",
          "height": 102
        },
        "outputId": "0c4bd23f-c53c-4e4f-a743-1bd96ac85503"
      },
      "source": [
        "genders_err,ethnic_err,workspace_err,job_err,transp_err = Assess_Data_Integrity(dataset,0.05)\n",
        "num_rows = dataset['TotalPop'].size\n",
        "print('genders_err = ',len(genders_err), ' / ', num_rows)\n",
        "print('ethnic_err = ' , len(ethnic_err), ' / ', num_rows)\n",
        "print('workspace_err = ' ,len(workspace_err), ' / ',num_rows)\n",
        "print('job_err = ' , len(job_err), ' / ', num_rows)\n",
        "print('transp_err = ' , len(transp_err), ' / ', num_rows)\n",
        "\n",
        "\n"
      ],
      "execution_count": 21,
      "outputs": [
        {
          "output_type": "stream",
          "text": [
            "genders_err =  0  /  74001\n",
            "ethnic_err =  58446  /  74001\n",
            "workspace_err =  0  /  74001\n",
            "job_err =  0  /  74001\n",
            "transp_err =  0  /  74001\n"
          ],
          "name": "stdout"
        }
      ]
    },
    {
      "cell_type": "code",
      "metadata": {
        "id": "hkgsclnlWrxt",
        "colab_type": "code",
        "colab": {}
      },
      "source": [
        "from sklearn import metrics\n",
        "from sklearn.cluster import KMeans\n",
        "from sklearn.datasets import load_digits\n",
        "from sklearn.decomposition import PCA\n",
        "from sklearn.preprocessing import scale\n",
        "\n",
        "\n",
        "X = dataset[['TotalPop','Poverty']]\n",
        "X= X[np.isfinite(X['TotalPop'])]\n",
        "X= X[np.isfinite(X['Poverty'])]\n",
        "wcss=[]\n",
        "for i in range(1,20):\n",
        "    kmeans=KMeans(n_clusters=i, init='k-means++',random_state=0)\n",
        "    kmeans.fit(X)\n",
        "    wcss.append(kmeans.inertia_)\n",
        "\n",
        "plt.plot(range(1,20),wcss)\n",
        "plt.title('The Elbow Method')\n",
        "plt.xlabel('Number of Clusters')\n",
        "plt.ylabel('WCSS')\n",
        "plt.show()\n",
        "\n",
        "#Fitting K-MEans to the dataset\n",
        "kmeans=KMeans(n_clusters=3,init='k-means++',random_state=0)\n",
        "y_kmeans=kmeans.fit_predict(X)\n",
        "\n",
        "#Visualize the clusters\n",
        "\n",
        "\n"
      ],
      "execution_count": 0,
      "outputs": []
    },
    {
      "cell_type": "code",
      "metadata": {
        "id": "JrlYJcdJgIdZ",
        "colab_type": "code",
        "colab": {
          "base_uri": "https://localhost:8080/",
          "height": 746
        },
        "outputId": "7274fbd2-0705-4f71-9de4-ea295adeb19c"
      },
      "source": [
        "cent = kmeans.cluster_centers_\n",
        "print(cent)\n",
        "print(y_kmeans)\n",
        "fig = plt.figure()\n",
        "ax = fig.add_subplot(111)\n",
        "plt.scatter(X[:,0], X[:,1], c=kmeans.labels_, cmap='rainbow')  \n",
        "plt.scatter(kmeans.cluster_centers_[:,0] ,kmeans.cluster_centers_[:,1], color='black')  \n",
        "ax.set_title('K-Means Clustering')\n",
        "ax.set_xlabel('GDP per Capita')\n",
        "ax.set_ylabel('Corruption')\n",
        "plt.colorbar(scatter)"
      ],
      "execution_count": 51,
      "outputs": [
        {
          "output_type": "stream",
          "text": [
            "[[6612.20823096   14.92772727]\n",
            " [3246.31930825   17.97512411]]\n",
            "[1 1 1 ... 1 0 1]\n"
          ],
          "name": "stdout"
        },
        {
          "output_type": "error",
          "ename": "TypeError",
          "evalue": "ignored",
          "traceback": [
            "\u001b[0;31m---------------------------------------------------------------------------\u001b[0m",
            "\u001b[0;31mTypeError\u001b[0m                                 Traceback (most recent call last)",
            "\u001b[0;32m<ipython-input-51-6338b4322a58>\u001b[0m in \u001b[0;36m<module>\u001b[0;34m()\u001b[0m\n\u001b[1;32m      4\u001b[0m \u001b[0mfig\u001b[0m \u001b[0;34m=\u001b[0m \u001b[0mplt\u001b[0m\u001b[0;34m.\u001b[0m\u001b[0mfigure\u001b[0m\u001b[0;34m(\u001b[0m\u001b[0;34m)\u001b[0m\u001b[0;34m\u001b[0m\u001b[0;34m\u001b[0m\u001b[0m\n\u001b[1;32m      5\u001b[0m \u001b[0max\u001b[0m \u001b[0;34m=\u001b[0m \u001b[0mfig\u001b[0m\u001b[0;34m.\u001b[0m\u001b[0madd_subplot\u001b[0m\u001b[0;34m(\u001b[0m\u001b[0;36m111\u001b[0m\u001b[0;34m)\u001b[0m\u001b[0;34m\u001b[0m\u001b[0;34m\u001b[0m\u001b[0m\n\u001b[0;32m----> 6\u001b[0;31m \u001b[0mplt\u001b[0m\u001b[0;34m.\u001b[0m\u001b[0mscatter\u001b[0m\u001b[0;34m(\u001b[0m\u001b[0mX\u001b[0m\u001b[0;34m[\u001b[0m\u001b[0;34m:\u001b[0m\u001b[0;34m,\u001b[0m\u001b[0;36m0\u001b[0m\u001b[0;34m]\u001b[0m\u001b[0;34m,\u001b[0m \u001b[0mX\u001b[0m\u001b[0;34m[\u001b[0m\u001b[0;34m:\u001b[0m\u001b[0;34m,\u001b[0m\u001b[0;36m1\u001b[0m\u001b[0;34m]\u001b[0m\u001b[0;34m,\u001b[0m \u001b[0mc\u001b[0m\u001b[0;34m=\u001b[0m\u001b[0mkmeans\u001b[0m\u001b[0;34m.\u001b[0m\u001b[0mlabels_\u001b[0m\u001b[0;34m,\u001b[0m \u001b[0mcmap\u001b[0m\u001b[0;34m=\u001b[0m\u001b[0;34m'rainbow'\u001b[0m\u001b[0;34m)\u001b[0m\u001b[0;34m\u001b[0m\u001b[0;34m\u001b[0m\u001b[0m\n\u001b[0m\u001b[1;32m      7\u001b[0m \u001b[0mplt\u001b[0m\u001b[0;34m.\u001b[0m\u001b[0mscatter\u001b[0m\u001b[0;34m(\u001b[0m\u001b[0mkmeans\u001b[0m\u001b[0;34m.\u001b[0m\u001b[0mcluster_centers_\u001b[0m\u001b[0;34m[\u001b[0m\u001b[0;34m:\u001b[0m\u001b[0;34m,\u001b[0m\u001b[0;36m0\u001b[0m\u001b[0;34m]\u001b[0m \u001b[0;34m,\u001b[0m\u001b[0mkmeans\u001b[0m\u001b[0;34m.\u001b[0m\u001b[0mcluster_centers_\u001b[0m\u001b[0;34m[\u001b[0m\u001b[0;34m:\u001b[0m\u001b[0;34m,\u001b[0m\u001b[0;36m1\u001b[0m\u001b[0;34m]\u001b[0m\u001b[0;34m,\u001b[0m \u001b[0mcolor\u001b[0m\u001b[0;34m=\u001b[0m\u001b[0;34m'black'\u001b[0m\u001b[0;34m)\u001b[0m\u001b[0;34m\u001b[0m\u001b[0;34m\u001b[0m\u001b[0m\n\u001b[1;32m      8\u001b[0m \u001b[0max\u001b[0m\u001b[0;34m.\u001b[0m\u001b[0mset_title\u001b[0m\u001b[0;34m(\u001b[0m\u001b[0;34m'K-Means Clustering'\u001b[0m\u001b[0;34m)\u001b[0m\u001b[0;34m\u001b[0m\u001b[0;34m\u001b[0m\u001b[0m\n",
            "\u001b[0;32m/usr/local/lib/python3.6/dist-packages/pandas/core/frame.py\u001b[0m in \u001b[0;36m__getitem__\u001b[0;34m(self, key)\u001b[0m\n\u001b[1;32m   2925\u001b[0m             \u001b[0;32mif\u001b[0m \u001b[0mself\u001b[0m\u001b[0;34m.\u001b[0m\u001b[0mcolumns\u001b[0m\u001b[0;34m.\u001b[0m\u001b[0mnlevels\u001b[0m \u001b[0;34m>\u001b[0m \u001b[0;36m1\u001b[0m\u001b[0;34m:\u001b[0m\u001b[0;34m\u001b[0m\u001b[0;34m\u001b[0m\u001b[0m\n\u001b[1;32m   2926\u001b[0m                 \u001b[0;32mreturn\u001b[0m \u001b[0mself\u001b[0m\u001b[0;34m.\u001b[0m\u001b[0m_getitem_multilevel\u001b[0m\u001b[0;34m(\u001b[0m\u001b[0mkey\u001b[0m\u001b[0;34m)\u001b[0m\u001b[0;34m\u001b[0m\u001b[0;34m\u001b[0m\u001b[0m\n\u001b[0;32m-> 2927\u001b[0;31m             \u001b[0mindexer\u001b[0m \u001b[0;34m=\u001b[0m \u001b[0mself\u001b[0m\u001b[0;34m.\u001b[0m\u001b[0mcolumns\u001b[0m\u001b[0;34m.\u001b[0m\u001b[0mget_loc\u001b[0m\u001b[0;34m(\u001b[0m\u001b[0mkey\u001b[0m\u001b[0;34m)\u001b[0m\u001b[0;34m\u001b[0m\u001b[0;34m\u001b[0m\u001b[0m\n\u001b[0m\u001b[1;32m   2928\u001b[0m             \u001b[0;32mif\u001b[0m \u001b[0mis_integer\u001b[0m\u001b[0;34m(\u001b[0m\u001b[0mindexer\u001b[0m\u001b[0;34m)\u001b[0m\u001b[0;34m:\u001b[0m\u001b[0;34m\u001b[0m\u001b[0;34m\u001b[0m\u001b[0m\n\u001b[1;32m   2929\u001b[0m                 \u001b[0mindexer\u001b[0m \u001b[0;34m=\u001b[0m \u001b[0;34m[\u001b[0m\u001b[0mindexer\u001b[0m\u001b[0;34m]\u001b[0m\u001b[0;34m\u001b[0m\u001b[0;34m\u001b[0m\u001b[0m\n",
            "\u001b[0;32m/usr/local/lib/python3.6/dist-packages/pandas/core/indexes/base.py\u001b[0m in \u001b[0;36mget_loc\u001b[0;34m(self, key, method, tolerance)\u001b[0m\n\u001b[1;32m   2655\u001b[0m                                  'backfill or nearest lookups')\n\u001b[1;32m   2656\u001b[0m             \u001b[0;32mtry\u001b[0m\u001b[0;34m:\u001b[0m\u001b[0;34m\u001b[0m\u001b[0;34m\u001b[0m\u001b[0m\n\u001b[0;32m-> 2657\u001b[0;31m                 \u001b[0;32mreturn\u001b[0m \u001b[0mself\u001b[0m\u001b[0;34m.\u001b[0m\u001b[0m_engine\u001b[0m\u001b[0;34m.\u001b[0m\u001b[0mget_loc\u001b[0m\u001b[0;34m(\u001b[0m\u001b[0mkey\u001b[0m\u001b[0;34m)\u001b[0m\u001b[0;34m\u001b[0m\u001b[0;34m\u001b[0m\u001b[0m\n\u001b[0m\u001b[1;32m   2658\u001b[0m             \u001b[0;32mexcept\u001b[0m \u001b[0mKeyError\u001b[0m\u001b[0;34m:\u001b[0m\u001b[0;34m\u001b[0m\u001b[0;34m\u001b[0m\u001b[0m\n\u001b[1;32m   2659\u001b[0m                 \u001b[0;32mreturn\u001b[0m \u001b[0mself\u001b[0m\u001b[0;34m.\u001b[0m\u001b[0m_engine\u001b[0m\u001b[0;34m.\u001b[0m\u001b[0mget_loc\u001b[0m\u001b[0;34m(\u001b[0m\u001b[0mself\u001b[0m\u001b[0;34m.\u001b[0m\u001b[0m_maybe_cast_indexer\u001b[0m\u001b[0;34m(\u001b[0m\u001b[0mkey\u001b[0m\u001b[0;34m)\u001b[0m\u001b[0;34m)\u001b[0m\u001b[0;34m\u001b[0m\u001b[0;34m\u001b[0m\u001b[0m\n",
            "\u001b[0;32mpandas/_libs/index.pyx\u001b[0m in \u001b[0;36mpandas._libs.index.IndexEngine.get_loc\u001b[0;34m()\u001b[0m\n",
            "\u001b[0;32mpandas/_libs/index.pyx\u001b[0m in \u001b[0;36mpandas._libs.index.IndexEngine.get_loc\u001b[0;34m()\u001b[0m\n",
            "\u001b[0;31mTypeError\u001b[0m: '(slice(None, None, None), 0)' is an invalid key"
          ]
        },
        {
          "output_type": "display_data",
          "data": {
            "image/png": "[encoded data removed]",
            "text/plain": [
              "<Figure size 432x288 with 1 Axes>"
            ]
          },
          "metadata": {
            "tags": []
          }
        }
      ]
    }
  ]
}